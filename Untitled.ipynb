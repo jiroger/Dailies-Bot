{
 "cells": [
  {
   "cell_type": "code",
   "execution_count": 19,
   "metadata": {},
   "outputs": [
    {
     "ename": "NameError",
     "evalue": "name 'password' is not defined",
     "output_type": "error",
     "traceback": [
      "\u001b[0;31m---------------------------------------------------------------------------\u001b[0m",
      "\u001b[0;31mNameError\u001b[0m                                 Traceback (most recent call last)",
      "\u001b[0;32m<ipython-input-19-a0fed13d6472>\u001b[0m in \u001b[0;36m<module>\u001b[0;34m\u001b[0m\n\u001b[1;32m     17\u001b[0m \u001b[0mdriver\u001b[0m\u001b[0;34m.\u001b[0m\u001b[0mfind_element_by_xpath\u001b[0m\u001b[0;34m(\u001b[0m\u001b[0mpasswordField\u001b[0m\u001b[0;34m)\u001b[0m\u001b[0;34m.\u001b[0m\u001b[0msend_keys\u001b[0m\u001b[0;34m(\u001b[0m\u001b[0;34m'flrbrb12'\u001b[0m\u001b[0;34m,\u001b[0m \u001b[0mKeys\u001b[0m\u001b[0;34m.\u001b[0m\u001b[0mRETURN\u001b[0m\u001b[0;34m)\u001b[0m\u001b[0;34m;\u001b[0m\u001b[0;34m\u001b[0m\u001b[0;34m\u001b[0m\u001b[0m\n\u001b[1;32m     18\u001b[0m \u001b[0;34m\u001b[0m\u001b[0m\n\u001b[0;32m---> 19\u001b[0;31m \u001b[0mpassword\u001b[0m\u001b[0;34m.\u001b[0m\u001b[0msubmit\u001b[0m\u001b[0;34m(\u001b[0m\u001b[0;34m)\u001b[0m\u001b[0;34m;\u001b[0m\u001b[0;34m\u001b[0m\u001b[0;34m\u001b[0m\u001b[0m\n\u001b[0m\u001b[1;32m     20\u001b[0m \u001b[0mdriver\u001b[0m\u001b[0;34m.\u001b[0m\u001b[0mquit\u001b[0m\u001b[0;34m(\u001b[0m\u001b[0;34m)\u001b[0m\u001b[0;34m\u001b[0m\u001b[0;34m\u001b[0m\u001b[0m\n",
      "\u001b[0;31mNameError\u001b[0m: name 'password' is not defined"
     ]
    }
   ],
   "source": [
    "import time\n",
    "from selenium import webdriver\n",
    "from selenium.webdriver.common.keys import Keys\n",
    "\n",
    "driver = webdriver.Chrome('/Users/jihimc18/Downloads/chromedriver')  \n",
    "driver.get('http://www.neopets.com/login');\n",
    "\n",
    "loginLink = '//*[@id=\"header\"]/table/tbody/tr[1]/td[3]/a[1]';\n",
    "driver.find_element_by_xpath(loginLink).click();\n",
    "\n",
    "usernameField = '//*[@id=\"templateLoginPopupUsername\"]';\n",
    "passwordField = '//*[@id=\"templateLoginPopup\"]/div/form/table/tbody/tr[2]/td[2]/input';\n",
    "\n",
    "driver.find_element_by_xpath(usernameField).send_keys('regqwerr');\n",
    "driver.find_element_by_xpath(passwordField).send_keys('flrbrb12', Keys.RETURN);\n",
    "\n",
    "driver.quit()"
   ]
  },
  {
   "cell_type": "code",
   "execution_count": null,
   "metadata": {},
   "outputs": [],
   "source": [
    "import time\n",
    "from selenium import webdriver\n",
    "from selenium.webdriver.common.keys import Keys\n",
    "import collections\n",
    "import multiprocessing\n",
    "\n",
    "class Dailies_Bot:\n",
    "    def __init__(self):\n",
    "        self.driver = webdriver.Chrome('/Users/jihimc18/Downloads/chromedriver');\n",
    "        self.driver.get('http://www.neopets.com/login');\n",
    "        \n",
    "        loginLink = '//*[@id=\"header\"]/table/tbody/tr[1]/td[3]/a[1]'; #xpath only way; all others fail\n",
    "        self.driver.find_element_by_xpath(loginLink).click();\n",
    "\n",
    "        usernameField = '//*[@id=\"templateLoginPopupUsername\"]';\n",
    "        passwordField = '//*[@id=\"templateLoginPopup\"]/div/form/table/tbody/tr[2]/td[2]/input';\n",
    "\n",
    "        self.driver.find_element_by_xpath(usernameField).send_keys('regqwerr');\n",
    "        self.driver.find_element_by_xpath(passwordField).send_keys('flrbrb12', Keys.RETURN);\n",
    "    \n",
    "    def __call__(item):\n",
    "        '''\n",
    "        handles the dailies that require one click (e.g. grab some omelette, jelly)\n",
    "        '''\n",
    "        self.driver.get(item[1]);\n",
    "        self.driver.find_element_by_xpath(item[2]).submit();\n",
    "\n",
    "        \n",
    "myBot = Dailies_Bot();\n",
    "bunchOfClickables = [\n",
    "    ('http://www.neopets.com/prehistoric/omelette.phtml', '//*[@value=\"Grab some Omelette\"]'), \n",
    "    ('http://www.neopets.com/altador/council.phtml?prhv=ddeff7997d56500585c63666ded5fe5e', '//*[@value=\"Collect your gift\"]'), \n",
    "    ('http://www.neopets.com/halloween/applebobbing.phtml?', '//*[@id=\"bob_button\"]')\n",
    "];\n",
    "\n",
    "pool = multiprocessing.Pool();\n",
    "pool.map(myBot, bunchOfClickables);\n",
    "\n",
    "\n",
    "\n"
   ]
  }
 ],
 "metadata": {
  "kernelspec": {
   "display_name": "Python 3",
   "language": "python",
   "name": "python3"
  },
  "language_info": {
   "codemirror_mode": {
    "name": "ipython",
    "version": 3
   },
   "file_extension": ".py",
   "mimetype": "text/x-python",
   "name": "python",
   "nbconvert_exporter": "python",
   "pygments_lexer": "ipython3",
   "version": "3.7.4"
  }
 },
 "nbformat": 4,
 "nbformat_minor": 2
}
